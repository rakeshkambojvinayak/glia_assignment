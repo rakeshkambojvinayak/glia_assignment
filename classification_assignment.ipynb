{
 "cells": [
  {
   "cell_type": "markdown",
   "id": "f484b925",
   "metadata": {
    "id": "f484b925"
   },
   "source": [
    "# Problem Statement\n",
    "\n",
    "This program is designed to classify news articles into distinct categories, including Business, Entertainment, Politics, Sports, and Tech, using a deep learning model. The workflow encompasses multiple stages, such as data preprocessing, text cleaning, tokenization, model construction, and performance evaluation. The goal is to build a robust text classification system that can effectively categorize news articles into the specified topics.\n"
   ]
  },
  {
   "cell_type": "code",
   "execution_count": 48,
   "id": "4533cdb6",
   "metadata": {
    "colab": {
     "base_uri": "https://localhost:8080/"
    },
    "id": "4533cdb6",
    "outputId": "588420b7-6101-48d7-ddac-76e08425d0cf"
   },
   "outputs": [
    {
     "name": "stderr",
     "output_type": "stream",
     "text": [
      "[nltk_data] Downloading package wordnet to\n",
      "[nltk_data]     C:\\Users\\Vikki\\AppData\\Roaming\\nltk_data...\n",
      "[nltk_data]   Package wordnet is already up-to-date!\n",
      "[nltk_data] Downloading package stopwords to\n",
      "[nltk_data]     C:\\Users\\Vikki\\AppData\\Roaming\\nltk_data...\n",
      "[nltk_data]   Package stopwords is already up-to-date!\n",
      "[nltk_data] Downloading package punkt to\n",
      "[nltk_data]     C:\\Users\\Vikki\\AppData\\Roaming\\nltk_data...\n",
      "[nltk_data]   Package punkt is already up-to-date!\n"
     ]
    },
    {
     "data": {
      "text/plain": [
       "True"
      ]
     },
     "execution_count": 48,
     "metadata": {},
     "output_type": "execute_result"
    }
   ],
   "source": [
    "#!pip install pandas numpy matplotlib seaborn nltk scikit-learn tensorflow wordcloud\n",
    "#!pip install nltk\n",
    "#!pip install contractions\n",
    "import nltk\n",
    "nltk.download('wordnet')\n",
    "nltk.download('stopwords')\n",
    "nltk.download('punkt')"
   ]
  },
  {
   "cell_type": "code",
   "execution_count": 49,
   "id": "CJNT5XyWeZBy",
   "metadata": {
    "id": "CJNT5XyWeZBy"
   },
   "outputs": [],
   "source": [
    "# from google.colab import drive\n",
    "# drive.mount('/content/drive')"
   ]
  },
  {
   "cell_type": "markdown",
   "id": "07baea94",
   "metadata": {
    "id": "07baea94"
   },
   "source": [
    "# Importing Libraries"
   ]
  },
  {
   "cell_type": "code",
   "execution_count": 78,
   "id": "66328873",
   "metadata": {
    "id": "66328873"
   },
   "outputs": [],
   "source": [
    "import pandas as pd\n",
    "import numpy as np\n",
    "import matplotlib.pyplot as plt\n",
    "import seaborn as sns\n",
    "\n",
    "import re\n",
    "from nltk.corpus import stopwords\n",
    "from nltk.tokenize import word_tokenize, sent_tokenize\n",
    "\n",
    "from sklearn.model_selection import train_test_split\n",
    "from sklearn.metrics import accuracy_score, confusion_matrix, classification_report\n",
    "\n",
    "import tensorflow as tf\n",
    "from tensorflow.keras.preprocessing import text, sequence\n",
    "from tensorflow.keras.models import Sequential\n",
    "from tensorflow.keras.layers import Embedding, Dense, LSTM, Dropout, GRU\n",
    "from tensorflow.keras.callbacks import Callback, ReduceLROnPlateau, EarlyStopping\n",
    "from tensorflow.keras.preprocessing.sequence import pad_sequences\n",
    "from tensorflow.keras.models import Sequential\n",
    "from tensorflow.keras.layers import Dense, Embedding, LSTM, SpatialDropout1D\n",
    "from tensorflow.keras.callbacks import History\n",
    "from tensorflow.keras.preprocessing.text import Tokenizer\n",
    "from tensorflow.keras.layers import Bidirectional\n",
    "from wordcloud import WordCloud, STOPWORDS\n",
    "from collections import Counter\n",
    "\n",
    "import contractions\n",
    "from nltk.stem import WordNetLemmatizer"
   ]
  },
  {
   "cell_type": "markdown",
   "id": "a5a898e4",
   "metadata": {
    "id": "a5a898e4"
   },
   "source": [
    "# Checking for GPU Availability"
   ]
  },
  {
   "cell_type": "code",
   "execution_count": 79,
   "id": "195d5275",
   "metadata": {
    "id": "195d5275"
   },
   "outputs": [
    {
     "name": "stdout",
     "output_type": "stream",
     "text": [
      "Number of GPUs available: 1\n"
     ]
    }
   ],
   "source": [
    "physical_devices = tf.config.list_physical_devices('GPU')\n",
    "if len(physical_devices) == 0:\n",
    "    print(\"No GPU devices available.\")\n",
    "else:\n",
    "    print(f\"Number of GPUs available: {len(physical_devices)}\")\n",
    "    tf.config.set_visible_devices(physical_devices[0], 'GPU')\n"
   ]
  },
  {
   "cell_type": "code",
   "execution_count": 80,
   "id": "liv7NLgbVVVi",
   "metadata": {
    "id": "liv7NLgbVVVi"
   },
   "outputs": [],
   "source": [
    "tf.keras.mixed_precision.set_global_policy('mixed_float16')"
   ]
  },
  {
   "cell_type": "markdown",
   "id": "0e4e5abc",
   "metadata": {
    "id": "0e4e5abc"
   },
   "source": [
    "# Loading Data"
   ]
  },
  {
   "cell_type": "code",
   "execution_count": 81,
   "id": "0699f398",
   "metadata": {
    "id": "0699f398"
   },
   "outputs": [
    {
     "data": {
      "text/html": [
       "<div>\n",
       "<style scoped>\n",
       "    .dataframe tbody tr th:only-of-type {\n",
       "        vertical-align: middle;\n",
       "    }\n",
       "\n",
       "    .dataframe tbody tr th {\n",
       "        vertical-align: top;\n",
       "    }\n",
       "\n",
       "    .dataframe thead th {\n",
       "        text-align: right;\n",
       "    }\n",
       "</style>\n",
       "<table border=\"1\" class=\"dataframe\">\n",
       "  <thead>\n",
       "    <tr style=\"text-align: right;\">\n",
       "      <th></th>\n",
       "      <th>category</th>\n",
       "      <th>text</th>\n",
       "    </tr>\n",
       "  </thead>\n",
       "  <tbody>\n",
       "    <tr>\n",
       "      <th>0</th>\n",
       "      <td>tech</td>\n",
       "      <td>tv future in the hands of viewers with home th...</td>\n",
       "    </tr>\n",
       "    <tr>\n",
       "      <th>1</th>\n",
       "      <td>business</td>\n",
       "      <td>worldcom boss  left books alone  former worldc...</td>\n",
       "    </tr>\n",
       "    <tr>\n",
       "      <th>2</th>\n",
       "      <td>sport</td>\n",
       "      <td>tigers wary of farrell  gamble  leicester say ...</td>\n",
       "    </tr>\n",
       "    <tr>\n",
       "      <th>3</th>\n",
       "      <td>sport</td>\n",
       "      <td>yeading face newcastle in fa cup premiership s...</td>\n",
       "    </tr>\n",
       "    <tr>\n",
       "      <th>4</th>\n",
       "      <td>entertainment</td>\n",
       "      <td>ocean s twelve raids box office ocean s twelve...</td>\n",
       "    </tr>\n",
       "  </tbody>\n",
       "</table>\n",
       "</div>"
      ],
      "text/plain": [
       "        category                                               text\n",
       "0           tech  tv future in the hands of viewers with home th...\n",
       "1       business  worldcom boss  left books alone  former worldc...\n",
       "2          sport  tigers wary of farrell  gamble  leicester say ...\n",
       "3          sport  yeading face newcastle in fa cup premiership s...\n",
       "4  entertainment  ocean s twelve raids box office ocean s twelve..."
      ]
     },
     "execution_count": 81,
     "metadata": {},
     "output_type": "execute_result"
    }
   ],
   "source": [
    "df = pd.read_csv('bbc-text.csv')\n",
    "df.head()"
   ]
  },
  {
   "cell_type": "markdown",
   "id": "f6902ec1",
   "metadata": {
    "id": "f6902ec1"
   },
   "source": [
    "# Data Exploration"
   ]
  },
  {
   "cell_type": "code",
   "execution_count": 82,
   "id": "8f58c2da",
   "metadata": {
    "id": "8f58c2da"
   },
   "outputs": [
    {
     "data": {
      "text/plain": [
       "sport            511\n",
       "business         510\n",
       "politics         417\n",
       "tech             401\n",
       "entertainment    386\n",
       "Name: category, dtype: int64"
      ]
     },
     "execution_count": 82,
     "metadata": {},
     "output_type": "execute_result"
    }
   ],
   "source": [
    "df['category'].value_counts()"
   ]
  },
  {
   "cell_type": "code",
   "execution_count": 83,
   "id": "1bac069e",
   "metadata": {
    "id": "1bac069e"
   },
   "outputs": [
    {
     "data": {
      "text/plain": [
       "category    object\n",
       "text        object\n",
       "dtype: object"
      ]
     },
     "execution_count": 83,
     "metadata": {},
     "output_type": "execute_result"
    }
   ],
   "source": [
    "df.dtypes"
   ]
  },
  {
   "cell_type": "code",
   "execution_count": 84,
   "id": "d29fc970",
   "metadata": {
    "id": "d29fc970"
   },
   "outputs": [
    {
     "data": {
      "text/html": [
       "<div>\n",
       "<style scoped>\n",
       "    .dataframe tbody tr th:only-of-type {\n",
       "        vertical-align: middle;\n",
       "    }\n",
       "\n",
       "    .dataframe tbody tr th {\n",
       "        vertical-align: top;\n",
       "    }\n",
       "\n",
       "    .dataframe thead th {\n",
       "        text-align: right;\n",
       "    }\n",
       "</style>\n",
       "<table border=\"1\" class=\"dataframe\">\n",
       "  <thead>\n",
       "    <tr style=\"text-align: right;\">\n",
       "      <th></th>\n",
       "      <th>category</th>\n",
       "      <th>text</th>\n",
       "    </tr>\n",
       "  </thead>\n",
       "  <tbody>\n",
       "    <tr>\n",
       "      <th>count</th>\n",
       "      <td>2225</td>\n",
       "      <td>2225</td>\n",
       "    </tr>\n",
       "    <tr>\n",
       "      <th>unique</th>\n",
       "      <td>5</td>\n",
       "      <td>2125</td>\n",
       "    </tr>\n",
       "    <tr>\n",
       "      <th>top</th>\n",
       "      <td>sport</td>\n",
       "      <td>broadband in the uk growing fast high-speed ne...</td>\n",
       "    </tr>\n",
       "    <tr>\n",
       "      <th>freq</th>\n",
       "      <td>511</td>\n",
       "      <td>2</td>\n",
       "    </tr>\n",
       "  </tbody>\n",
       "</table>\n",
       "</div>"
      ],
      "text/plain": [
       "       category                                               text\n",
       "count      2225                                               2225\n",
       "unique        5                                               2125\n",
       "top       sport  broadband in the uk growing fast high-speed ne...\n",
       "freq        511                                                  2"
      ]
     },
     "execution_count": 84,
     "metadata": {},
     "output_type": "execute_result"
    }
   ],
   "source": [
    "df.describe()"
   ]
  },
  {
   "cell_type": "code",
   "execution_count": 85,
   "id": "65ef6750",
   "metadata": {
    "id": "65ef6750"
   },
   "outputs": [
    {
     "data": {
      "text/plain": [
       "'berlin cheers for anti-nazi film a german movie about an anti-nazi resistance heroine has drawn loud applause at berlin film festival.  sophie scholl - the final days portrays the final days of the member of the white rose movement. scholl  21  was arrested and beheaded with her brother  hans  in 1943 for distributing leaflets condemning the  abhorrent tyranny  of adolf hitler. director marc rothemund said:  i have a feeling of responsibility to keep the legacy of the scholls going.   we must somehow keep their ideas alive   he added.  the film drew on transcripts of gestapo interrogations and scholl s trial preserved in the archive of communist east germany s secret police. their discovery was the inspiration behind the film for rothemund  who worked closely with surviving relatives  including one of scholl s sisters  to ensure historical accuracy on the film. scholl and other members of the white rose resistance group first started distributing anti-nazi leaflets in the summer of 1942. they were arrested as they dropped leaflets at munich university calling for a  day of reckoning  with adolf hitler s regime. the film focuses on the six days from scholl s arrest to the intense trial which saw scholl initially deny the charges and ended with a defiant appearance. it is one of three german films vying for a top prize at the festival.  a south african film version of bizet s tragic opera carmen shot in cape town in the xhosa language has also premiered at the berlin festival. the film is entitled u-carmen ekhayelitsha or carmen in khayelitsha after the township in which the story is set. it is performed by a 40-strong music and theatre troupe in their debut film performance. the film is the first south african feature in 25 years and only the second to be nominated for a golden bear award.'"
      ]
     },
     "execution_count": 85,
     "metadata": {},
     "output_type": "execute_result"
    }
   ],
   "source": [
    "df['text'][10]"
   ]
  },
  {
   "cell_type": "code",
   "execution_count": 86,
   "id": "ddf4b8f2",
   "metadata": {
    "id": "ddf4b8f2"
   },
   "outputs": [
    {
     "data": {
      "text/plain": [
       "category    0\n",
       "text        0\n",
       "dtype: int64"
      ]
     },
     "execution_count": 86,
     "metadata": {},
     "output_type": "execute_result"
    }
   ],
   "source": [
    "df.isnull().sum()"
   ]
  },
  {
   "cell_type": "markdown",
   "id": "a6f28ab3",
   "metadata": {
    "id": "a6f28ab3"
   },
   "source": [
    "# Data Visualization"
   ]
  },
  {
   "cell_type": "code",
   "execution_count": 87,
   "id": "297390e9",
   "metadata": {
    "id": "297390e9"
   },
   "outputs": [
    {
     "data": {
      "image/png": "[encoded data removed]",
      "text/plain": [
       "<Figure size 1000x600 with 1 Axes>"
      ]
     },
     "metadata": {},
     "output_type": "display_data"
    }
   ],
   "source": [
    "import seaborn as sns\n",
    "import matplotlib.pyplot as plt\n",
    "\n",
    "# Create a count plot of the 'category' column\n",
    "plt.figure(figsize=(10, 6))\n",
    "sns.countplot(x='category', data=df)\n",
    "\n",
    "# Rotate x-axis labels for better readability (optional)\n",
    "plt.xticks(rotation=45)\n",
    "\n",
    "# Set labels and title\n",
    "plt.xlabel('Category')\n",
    "plt.ylabel('Count')\n",
    "plt.title('Distribution of Categories')\n",
    "\n",
    "# Show the plot\n",
    "plt.show()\n"
   ]
  },
  {
   "cell_type": "code",
   "execution_count": 88,
   "id": "66ab368e",
   "metadata": {
    "id": "66ab368e"
   },
   "outputs": [
    {
     "data": {
      "image/png": "[encoded data removed]",
      "text/plain": [
       "<Figure size 1000x600 with 1 Axes>"
      ]
     },
     "metadata": {},
     "output_type": "display_data"
    }
   ],
   "source": [
    "# Calculate the length of each text sample and store it in a new column 'text_length'\n",
    "df['text_length'] = df['text'].apply(len)\n",
    "\n",
    "# Create a histogram to visualize the distribution of text lengths\n",
    "plt.figure(figsize=(10, 6))\n",
    "plt.hist(df['text_length'], bins=50, alpha=0.7, color='blue', edgecolor='black')\n",
    "plt.title('Distribution of Text Lengths')\n",
    "plt.xlabel('Text Length')\n",
    "plt.ylabel('Frequency')\n",
    "plt.show()\n"
   ]
  },
  {
   "cell_type": "code",
   "execution_count": 89,
   "id": "b2eb69f3",
   "metadata": {
    "id": "b2eb69f3"
   },
   "outputs": [
    {
     "name": "stdout",
     "output_type": "stream",
     "text": [
      "Minimum Text Length: 501 characters\n",
      "Maximum Text Length: 3100 characters\n"
     ]
    }
   ],
   "source": [
    "# Calculate the minimum and maximum text lengths\n",
    "min_length = df['text'].apply(len).min()\n",
    "max_length = df['text'].apply(len).max()\n",
    "\n",
    "print(f\"Minimum Text Length: {min_length} characters\")\n",
    "print(f\"Maximum Text Length: {max_length} characters\")\n"
   ]
  },
  {
   "cell_type": "markdown",
   "id": "e8de2571",
   "metadata": {
    "id": "e8de2571"
   },
   "source": [
    "# Text Cleaning"
   ]
  },
  {
   "cell_type": "code",
   "execution_count": 90,
   "id": "6d7ccc1f",
   "metadata": {
    "id": "6d7ccc1f"
   },
   "outputs": [],
   "source": [
    "def expand_contractions(text):\n",
    "    return contractions.fix(text)\n",
    "\n",
    "df['text'] = df['text'].apply(expand_contractions)"
   ]
  },
  {
   "cell_type": "code",
   "execution_count": 91,
   "id": "b68a26eb",
   "metadata": {
    "id": "b68a26eb"
   },
   "outputs": [],
   "source": [
    "lemmatizer = WordNetLemmatizer()\n",
    "\n",
    "def lemmatize_text(text):\n",
    "    words = word_tokenize(text)\n",
    "    lemmatized_words = [lemmatizer.lemmatize(word) for word in words]\n",
    "    return ' '.join(lemmatized_words)\n",
    "\n",
    "df['text'] = df['text'].apply(lemmatize_text)"
   ]
  },
  {
   "cell_type": "code",
   "execution_count": 92,
   "id": "531a663d",
   "metadata": {
    "id": "531a663d"
   },
   "outputs": [],
   "source": [
    "def replace_numbers(text):\n",
    "    return re.sub(r'\\d+', '<NUM>', text)\n",
    "\n",
    "df['text'] = df['text'].apply(replace_numbers)"
   ]
  },
  {
   "cell_type": "code",
   "execution_count": 93,
   "id": "pN9_R_OFOY-G",
   "metadata": {
    "id": "pN9_R_OFOY-G"
   },
   "outputs": [
    {
     "name": "stdout",
     "output_type": "stream",
     "text": [
      "the: 48254\n",
      ".: 35667\n",
      "to: 22782\n",
      "a: 21085\n",
      "of: 18157\n",
      "and: 16763\n",
      "in: 16344\n",
      "it: 9093\n",
      "<NUM>: 8931\n",
      "s: 8384\n",
      "for: 8124\n",
      "is: 7503\n",
      "that: 7242\n",
      "on: 6935\n",
      "said: 6926\n",
      "wa: 5652\n",
      "he: 5534\n",
      "be: 5131\n",
      "with: 4827\n",
      "ha: 4637\n",
      "at: 4307\n",
      "have: 4242\n",
      "by: 4158\n",
      "will: 4045\n",
      "but: 3949\n",
      "are: 3865\n",
      "i: 3294\n",
      "from: 3265\n",
      "not: 3162\n",
      "his: 2813\n",
      "mr: 2786\n",
      "-: 2776\n",
      "they: 2708\n",
      "we: 2663\n",
      "year: 2638\n",
      "an: 2543\n",
      "this: 2487\n",
      "had: 2438\n",
      "which: 2392\n",
      "would: 2340\n",
      "been: 2313\n",
      "their: 2161\n",
      "more: 2052\n",
      "were: 2043\n",
      "also: 2004\n",
      "(: 1990\n",
      "): 1990\n",
      "who: 1907\n",
      "%: 1899\n",
      "u: 1875\n"
     ]
    }
   ],
   "source": [
    "# Combine all 'text' values into a single string\n",
    "text_combined = ' '.join(df['text'])\n",
    "\n",
    "# Tokenize the text into words\n",
    "words = text_combined.split()\n",
    "\n",
    "# Count the frequency of each word\n",
    "word_counts = Counter(words)\n",
    "\n",
    "# Get the top 50 words by count\n",
    "top_50_words = word_counts.most_common(50)\n",
    "\n",
    "# Display the top 50 words and their counts\n",
    "for word, count in top_50_words:\n",
    "    print(f'{word}: {count}')\n"
   ]
  },
  {
   "cell_type": "code",
   "execution_count": 94,
   "id": "974b79e8",
   "metadata": {
    "id": "974b79e8"
   },
   "outputs": [],
   "source": [
    "# Regular expressions for cleaning text\n",
    "text_space_regex = re.compile('[/(){}\\[\\]\\|@,;]')\n",
    "text_symbols_regex = re.compile('[^0-9a-z #+_]')\n",
    "stop_words = set(stopwords.words('english'))\n",
    "additional_words = {\"wa\", \"ha\", \"u\", \"numnum\", \"numm\"}\n",
    "\n",
    "STOPWORDS = stop_words.union(additional_words)\n",
    "\n",
    "# Text cleaning function with additional modifications\n",
    "def clean_and_preprocess_text(input_text):\n",
    "    # Convert text to lowercase\n",
    "    cleaned_text = input_text.lower()\n",
    "\n",
    "    # Replace specified symbols with space\n",
    "    cleaned_text = text_space_regex.sub(' ', cleaned_text)\n",
    "\n",
    "    # Remove symbols that are not alphanumeric, space, #, +, or _\n",
    "    cleaned_text = text_symbols_regex.sub('', cleaned_text)\n",
    "\n",
    "    # Remove 'x' character\n",
    "    cleaned_text = cleaned_text.replace('x', '')\n",
    "\n",
    "    # Tokenize text into words\n",
    "    words = word_tokenize(cleaned_text)\n",
    "\n",
    "    # Remove stopwords\n",
    "    words = [word for word in words if word not in STOPWORDS]\n",
    "\n",
    "    # Join words back into cleaned text\n",
    "    cleaned_text = ' '.join(words)\n",
    "\n",
    "    # Remove extra whitespaces and strip leading/trailing spaces\n",
    "    cleaned_text = re.sub(r'\\s+', ' ', cleaned_text).strip()\n",
    "\n",
    "    return cleaned_text\n",
    "\n",
    "df['text']=df['text'].apply(clean_and_preprocess_text)"
   ]
  },
  {
   "cell_type": "markdown",
   "id": "8da1546e",
   "metadata": {
    "id": "8da1546e"
   },
   "source": [
    "# Word Cloud Visualization"
   ]
  },
  {
   "cell_type": "code",
   "execution_count": null,
   "id": "02b4f0e7",
   "metadata": {
    "id": "02b4f0e7"
   },
   "outputs": [],
   "source": [
    "# Combine all 'text' values into a single string\n",
    "text_combined = ' '.join(df['text'])\n",
    "\n",
    "# Create a WordCloud object\n",
    "wordcloud = WordCloud(width=800, height=400, background_color='white', max_words=100).generate(text_combined)\n",
    "\n",
    "# Display the word cloud\n",
    "plt.figure(figsize=(10, 5))\n",
    "plt.imshow(wordcloud, interpolation='bilinear')\n",
    "plt.axis('off')\n",
    "plt.show()"
   ]
  },
  {
   "cell_type": "markdown",
   "id": "6e580cd5",
   "metadata": {
    "id": "6e580cd5"
   },
   "source": [
    "# Tokenization and Word Frequency"
   ]
  },
  {
   "cell_type": "code",
   "execution_count": null,
   "id": "51815c63",
   "metadata": {
    "id": "51815c63"
   },
   "outputs": [],
   "source": [
    "unique_words = set()\n",
    "for text in df['text']:\n",
    "    words = word_tokenize(text)\n",
    "    unique_words.update(words)\n",
    "\n",
    "total_unique_words = len(unique_words)\n",
    "total_unique_words"
   ]
  },
  {
   "cell_type": "code",
   "execution_count": null,
   "id": "4deaf77a",
   "metadata": {
    "id": "4deaf77a"
   },
   "outputs": [],
   "source": [
    "# Combine all 'text' values into a single string\n",
    "text_combined = ' '.join(df['text'])\n",
    "\n",
    "# Tokenize the text into words\n",
    "words = text_combined.split()\n",
    "\n",
    "# Count the frequency of each word\n",
    "word_counts = Counter(words)\n",
    "\n",
    "# Get the top 50 words by count\n",
    "top_50_words = word_counts.most_common(50)\n",
    "\n",
    "# Display the top 50 words and their counts\n",
    "for word, count in top_50_words:\n",
    "    print(f'{word}: {count}')\n"
   ]
  },
  {
   "cell_type": "markdown",
   "id": "1044186b",
   "metadata": {
    "id": "1044186b"
   },
   "source": [
    "# Tokenization and Data Preparation"
   ]
  },
  {
   "cell_type": "code",
   "execution_count": null,
   "id": "b015d28d",
   "metadata": {
    "id": "b015d28d"
   },
   "outputs": [],
   "source": [
    "tokenizer = Tokenizer(num_words=total_unique_words, filters='!\"#$%&()*+,-./:;<=>?@[\\]^_`{|}~', lower=True)\n",
    "tokenizer.fit_on_texts(df['text'].values)\n",
    "word_index = tokenizer.word_index\n",
    "print('Found %s unique tokens.' % len(word_index))"
   ]
  },
  {
   "cell_type": "code",
   "execution_count": null,
   "id": "410acaa3",
   "metadata": {
    "id": "410acaa3"
   },
   "outputs": [],
   "source": [
    "X = tokenizer.texts_to_sequences(df['text'].values)\n",
    "X = pad_sequences(X, maxlen=max_length)"
   ]
  },
  {
   "cell_type": "code",
   "execution_count": null,
   "id": "aed127a0",
   "metadata": {
    "id": "aed127a0"
   },
   "outputs": [],
   "source": [
    "Y = pd.get_dummies(df['category'],columns=df[\"category\"]).values\n",
    "Y[:1]"
   ]
  },
  {
   "cell_type": "code",
   "execution_count": null,
   "id": "f08c94b5",
   "metadata": {
    "id": "f08c94b5"
   },
   "outputs": [],
   "source": [
    "from sklearn.model_selection import train_test_split\n",
    "X_train, X_test, Y_train, Y_test = train_test_split(X, Y, test_size = 0.2, random_state = 42)\n",
    "print(X_train.shape,Y_train.shape)\n",
    "print(X_test.shape,Y_test.shape)"
   ]
  },
  {
   "cell_type": "markdown",
   "id": "wrdkNJ-FTMc6",
   "metadata": {
    "id": "wrdkNJ-FTMc6"
   },
   "source": [
    "# Model configuration setup"
   ]
  },
  {
   "cell_type": "code",
   "execution_count": null,
   "id": "i8RigXmgPyDD",
   "metadata": {
    "id": "i8RigXmgPyDD"
   },
   "outputs": [],
   "source": [
    "epochs = 10\n",
    "batch_size = 32\n",
    "validation_split = 0.2\n",
    "\n",
    "class CustomCallback(Callback):\n",
    "    def on_epoch_end(self, epoch, logs=None):\n",
    "        if logs is None:\n",
    "            logs = {}\n",
    "\n",
    "        # Specify the validation accuracy threshold we want (e.g., 97%)\n",
    "        target_accuracy = 0.95\n",
    "\n",
    "        # Check if validation accuracy reaches the target accuracy\n",
    "        if logs.get('val_accuracy') >= target_accuracy:\n",
    "            print(f\"\\nReached target validation accuracy ({target_accuracy * 100:.2f}%). Stopping training.\")\n",
    "            self.model.stop_training = True\n",
    "\n",
    "custom_callback = CustomCallback()\n",
    "\n",
    "reduce_lr = ReduceLROnPlateau(monitor='val_loss', factor=0.1, patience=5, min_lr=1e-6, verbose=1)\n",
    "early_stop = EarlyStopping(monitor='val_loss', min_delta=0, patience=10, mode='auto')"
   ]
  },
  {
   "cell_type": "markdown",
   "id": "f6ccd164",
   "metadata": {
    "id": "f6ccd164"
   },
   "source": [
    "# Building and Training the Model"
   ]
  },
  {
   "cell_type": "code",
   "execution_count": null,
   "id": "3f98156d",
   "metadata": {
    "id": "3f98156d"
   },
   "outputs": [],
   "source": [
    "model=Sequential()\n",
    "model.add(Embedding(total_unique_words, 100, input_length=max_length))\n",
    "model.add(SpatialDropout1D(0.2))\n",
    "model.add(LSTM(128, dropout=0.2, recurrent_dropout=0.2))\n",
    "model.add(Dense(5, activation='softmax'))\n",
    "model.compile(loss='categorical_crossentropy', optimizer='adam', metrics=['accuracy'])"
   ]
  },
  {
   "cell_type": "code",
   "execution_count": null,
   "id": "-Tos_WaAgA8A",
   "metadata": {
    "id": "-Tos_WaAgA8A"
   },
   "outputs": [],
   "source": [
    "model.summary()"
   ]
  },
  {
   "cell_type": "code",
   "execution_count": null,
   "id": "rqw6BcCHP6yh",
   "metadata": {
    "colab": {
     "base_uri": "https://localhost:8080/"
    },
    "id": "rqw6BcCHP6yh",
    "outputId": "dd661305-f668-4b72-dfef-0a0d4277dcb4"
   },
   "outputs": [],
   "source": [
    "history = model.fit(X_train,\n",
    "                    Y_train,\n",
    "                    epochs=epochs,\n",
    "                    batch_size=batch_size,\n",
    "                    validation_split=validation_split,\n",
    "                    callbacks=([custom_callback, reduce_lr, early_stop])\n",
    "                   )"
   ]
  },
  {
   "cell_type": "code",
   "execution_count": null,
   "id": "86f526e8",
   "metadata": {
    "id": "86f526e8"
   },
   "outputs": [],
   "source": [
    "accr = model.evaluate(X_test,Y_test)\n",
    "print('Test set\\n  Loss: {:0.3f}\\n  Accuracy: {:0.3f}'.format(accr[0],accr[1]))"
   ]
  },
  {
   "cell_type": "markdown",
   "id": "e810085c",
   "metadata": {
    "id": "e810085c"
   },
   "source": [
    "# Model Evaluation and Visualization"
   ]
  },
  {
   "cell_type": "code",
   "execution_count": null,
   "id": "84043d61",
   "metadata": {
    "id": "84043d61"
   },
   "outputs": [],
   "source": [
    "plt.title('Loss')\n",
    "plt.plot(history.history['loss'], label='train')\n",
    "plt.plot(history.history['val_loss'], label='test')\n",
    "plt.legend()\n",
    "plt.show();"
   ]
  },
  {
   "cell_type": "code",
   "execution_count": null,
   "id": "450110ec",
   "metadata": {
    "id": "450110ec"
   },
   "outputs": [],
   "source": [
    "plt.title('Accuracy')\n",
    "plt.plot(history.history['accuracy'], label='train')\n",
    "plt.plot(history.history['val_accuracy'], label='test')\n",
    "plt.legend()\n",
    "plt.show();"
   ]
  },
  {
   "cell_type": "markdown",
   "id": "efa12b1e",
   "metadata": {
    "id": "efa12b1e"
   },
   "source": [
    "# Making Predictions"
   ]
  },
  {
   "cell_type": "code",
   "execution_count": null,
   "id": "d7ccbd4c",
   "metadata": {
    "id": "d7ccbd4c"
   },
   "outputs": [],
   "source": [
    "req = ['''how political squabbles snowball it s become commonplace to argue that blair and brown are like squabbling school kids and that they (and their supporters) need to grow up and stop bickering.  but this analysis in fact gets it wrong. it s not just children who fight - adults do too. and there are solid reasons why even a trivial argument between mature protagonists can be hard to stop once its got going. the key feature of an endless feud is that everyone can agree they d be better off if it ended - but everyone wants to have the last word.  each participant genuinely wants the row to stop  but thinks it worth prolonging the argument just a tiny bit to ensure their view is heard. their successive attempts to end the argument with their last word ensure the argument goes on and on and on. (in the case of mr blair and mr brown  successive books are published  ensuring the issues never die.) now this isn t because the participants are stupid - it s actually each individual behaving entirely rationally  given the incentives facing them. indeed  there s even a piece of economic theory that explains all this. nothing as obscure as  post-neo-classical endogenous growth theory  which the chancellor himself once quoted - but a ubiquitous piece of game theory which all respectable policy wonks are familiar with.  it s often referred to as the  prisoner s dilemma   based on a parable much told in economics degree courses... about a sheriff and two prisoners. the story goes that two prisoners are jointly charged with a heinous crime  and are locked up in separate cells. but the sheriff desperately needs a confession from at least one of them  to provide enough evidence to convict them of the crime. without a confession  the prisoners will get a minimal sentence on some trumped up charge.  clearly the prisoners  best strategy is to keep their mouths shut  and take the short sentence  but the clever sheriff has an idea to induce them to talk. he tells each prisoner separately  that if they confess - and they are the only one to confess - they ll be let off their crime. and he tells them that if they don t confess - and they are the only one not to confess - they ll get life. now  if you are prisoner confronted with this choice  your best bet is to confess. if your partner doesn t confess  you ll get off completely. and if your partner does confess  you d better confess to ensure you don t get life. the result is of course  both prisoners confess  so the sheriff does not have to let either one off. both prisoners  individual logic was to behave that way  even though both would have been better if they had somehow agreed to shut up. don t worry if you don t entirely follow it - you can to look it up on google  where there are 283 000 entries on it.  the prisoners  dilemma and all its ramifications have truly captured economists in the last couple of decades. it is a parable used to describe any situation where there is an obvious sensible choice to be taken collectively  but where the only rational choice individually is to behave selfishly.  a cold war arms r''']\n",
    "seq = tokenizer.texts_to_sequences(req)\n",
    "padded = pad_sequences(seq, maxlen=max_length)\n",
    "pred = model.predict(padded)\n",
    "labels = ['Business','Entertainment','Politics','Sports','Tech']\n",
    "\n",
    "max_prob_idx = np.argmax(pred)\n",
    "predicted_label = labels[max_prob_idx]\n",
    "confidence_score = float(pred[0][max_prob_idx])\n",
    "\n",
    "print(predicted_label, format(confidence_score, '.6f'))"
   ]
  },
  {
   "cell_type": "markdown",
   "id": "b7588544",
   "metadata": {
    "id": "b7588544"
   },
   "source": [
    "# Saving the Model"
   ]
  },
  {
   "cell_type": "code",
   "execution_count": null,
   "id": "189787b9",
   "metadata": {
    "id": "189787b9"
   },
   "outputs": [],
   "source": [
    "model.save('model.h5')"
   ]
  },
  {
   "cell_type": "code",
   "execution_count": null,
   "id": "9d71a48d",
   "metadata": {},
   "outputs": [],
   "source": []
  }
 ],
 "metadata": {
  "accelerator": "GPU",
  "colab": {
   "gpuType": "T4",
   "provenance": []
  },
  "kernelspec": {
   "display_name": "Python 3 (ipykernel)",
   "language": "python",
   "name": "python3"
  },
  "language_info": {
   "codemirror_mode": {
    "name": "ipython",
    "version": 3
   },
   "file_extension": ".py",
   "mimetype": "text/x-python",
   "name": "python",
   "nbconvert_exporter": "python",
   "pygments_lexer": "ipython3",
   "version": "3.9.15"
  }
 },
 "nbformat": 4,
 "nbformat_minor": 5
}
